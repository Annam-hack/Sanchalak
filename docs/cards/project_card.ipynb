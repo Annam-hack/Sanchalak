{
  "nbformat": 4,
  "nbformat_minor": 0,
  "metadata": {
    "colab": {
      "provenance": []
    },
    "kernelspec": {
      "name": "python3",
      "display_name": "Python 3"
    },
    "language_info": {
      "name": "python"
    }
  },
  "cells": [
    {
      "cell_type": "markdown",
      "source": [
        "## Sanchalak - Bringing Schemes closer to Farmers"
      ],
      "metadata": {
        "id": "RKwx8ZDr-4k-"
      }
    },
    {
      "cell_type": "markdown",
      "source": [
        "## Background"
      ],
      "metadata": {
        "id": "O7q95q1J_PDK"
      }
    },
    {
      "cell_type": "markdown",
      "source": [
        "India’s 13+ crore farmers struggle to access government schemes due to low awareness, complex eligibility, and language barriers. Despite high smartphone penetration, welfare schemes remain underutilized. Farmers rely on opaque intermediaries and face friction at every step—from discovery to application. There’s a clear need for a unified, accessible, and language-inclusive support system to bridge this gap."
      ],
      "metadata": {
        "id": "KvLrBfsQ_SHb"
      }
    },
    {
      "cell_type": "markdown",
      "source": [
        "## Problem\n"
      ],
      "metadata": {
        "id": "d3bCOEE8_4k6"
      }
    },
    {
      "cell_type": "markdown",
      "source": [
        "Farmers struggle to access welfare schemes due to fragmented processes, lack of awareness, and limited language support. The system is not voice-friendly or user-centric. As a result, many miss out on benefits, rely on middlemen, and face delays. This leads to underutilization of funds and distrust in public systems.\n"
      ],
      "metadata": {
        "id": "91fAHKa3ALvf"
      }
    },
    {
      "cell_type": "markdown",
      "source": [
        "## Customer\n"
      ],
      "metadata": {
        "id": "FkiG3WQoIkhS"
      }
    },
    {
      "cell_type": "markdown",
      "source": [
        "\n",
        "The primary beneficiaries are small and marginal farmers in rural India. Their core challenge is accessing government schemes due to language barriers, low digital literacy, and bureaucratic complexity. Today, they rely on intermediaries, face long delays, and often miss out on entitlements. They need a simple, trustworthy, and localized way to understand and apply for schemes.\n",
        "\n"
      ],
      "metadata": {
        "id": "m8CchGrHAs9s"
      }
    },
    {
      "cell_type": "markdown",
      "source": [
        "## Value Proposition\n"
      ],
      "metadata": {
        "id": "z60KR0KBInYy"
      }
    },
    {
      "cell_type": "markdown",
      "source": [
        "\n",
        "Solving this enables direct access to welfare benefits for millions of underserved farmers, reducing dependency on intermediaries. It can increase scheme utilization, improve rural livelihoods, and enhance trust in public systems. For governments, it ensures better policy delivery and measurable impact. For farmers, it means timely support, clarity, and empowerment in their native language.\n",
        "\n"
      ],
      "metadata": {
        "id": "t1M3PkIIBBp4"
      }
    },
    {
      "cell_type": "markdown",
      "source": [
        "## Product (Experience)"
      ],
      "metadata": {
        "id": "SiY0GmNfIpoY"
      }
    },
    {
      "cell_type": "markdown",
      "source": [
        "\n",
        "Users interact via a multilingual voice-first interface, making it accessible to non-literate farmers. They speak their land or crop details, and the assistant explains eligible schemes, auto-fills applications, and tracks status. The experience is conversational, intuitive, and localized. Unlike static portals, it offers personalized guidance and real-time support in the farmer’s language.\n"
      ],
      "metadata": {
        "id": "RocYi32xBIIp"
      }
    },
    {
      "cell_type": "markdown",
      "source": [
        "## Objectives (SMART or Business Goals)\n"
      ],
      "metadata": {
        "id": "c4Ywru7bIr9p"
      }
    },
    {
      "cell_type": "markdown",
      "source": [
        "\n",
        "* Enable 80%+ accuracy in scheme eligibility detection\n",
        "based on user input.\n",
        "\n",
        "* Reduce application time by 60% through autofill and\n",
        "document guidance.\n",
        "\n",
        "* Reach 1 lakh+ farmers across 3 states within the first 6 months.\n",
        "\n",
        "* Achieve 40%+ scheme application conversion rate from user interactions.\n",
        "\n",
        "* Maintain 90%+ satisfaction score through multilingual conversational UX.\n",
        "\n",
        "Success means high engagement, increased scheme adoption, and demonstrable improvement in government service delivery."
      ],
      "metadata": {
        "id": "wmw9mIFfBc4K"
      }
    },
    {
      "cell_type": "markdown",
      "source": [
        "## Risks and Challenges\n"
      ],
      "metadata": {
        "id": "8LKDRPEGIv-C"
      }
    },
    {
      "cell_type": "markdown",
      "source": [
        "\n",
        "\n",
        "\n",
        "1.   Context Management: Misinterpreting user inputs in multi-turn conversations can lead to incorrect scheme recommendations. Mitigated by using robust NLP pipelines and context tracking with fallback handling.\n",
        "\n",
        "\n",
        "2.   Data Privacy: Handling personal and land data poses privacy risks. Addressed through encryption, consent mechanisms, and compliance with data protection norms.\n",
        "\n",
        "3. Language Ambiguity: Diverse dialects may confuse the voice assistant. Solved via regional NLP tuning and continuous speech model refinement.\n",
        "\n",
        "4. Operational Scalability: Scaling across states with different scheme rules is complex. Mitigated by modularizing scheme logic and localizing configurations."
      ],
      "metadata": {
        "id": "kj1QvEzgCRim"
      }
    },
    {
      "cell_type": "markdown",
      "source": [
        "## Task Type\n"
      ],
      "metadata": {
        "id": "vMgtbM3AIyUD"
      }
    },
    {
      "cell_type": "markdown",
      "source": [
        "\n",
        "Sanchalak involves a multi-label classification task to identify eligible government schemes based on user input (land, crop, location, income, etc.). It also includes NER (Named Entity Recognition) and intent classification for voice query understanding.\n",
        "\n"
      ],
      "metadata": {
        "id": "zlY-CJxICv5l"
      }
    },
    {
      "cell_type": "markdown",
      "source": [
        "## Data\n"
      ],
      "metadata": {
        "id": "KDmFZlhaI0yH"
      }
    },
    {
      "cell_type": "markdown",
      "source": [
        "\n",
        "Sanchalak uses semi-structured text data extracted from government scheme PDFs and portals using Tesseract OCR and BeautifulSoup, then standardized into a schema-spec.yml format. This includes eligibility criteria, benefits, documents required, and application processes.\n",
        "Data is manually validated and labeled to align with NER and classification needs. It will be refreshed quarterly as new schemes are launched or updated.\n",
        "\n"
      ],
      "metadata": {
        "id": "nKHU5UuiENad"
      }
    },
    {
      "cell_type": "markdown",
      "source": [
        "## Plan / Roadmap"
      ],
      "metadata": {
        "id": "j-UUxYwvI3C8"
      }
    },
    {
      "cell_type": "markdown",
      "source": [
        "\n",
        "\n",
        "**Phase 1: Problem & Data Understanding**\n",
        "\n",
        "* Finalize scheme categories, user personas, and data schema.\n",
        "\n",
        "\n",
        "* Clean and validate semi-structured scheme data.\n",
        "\n",
        "**Phase 2: MVP Development (Week 3)**\n",
        "\n",
        "* Build voice-to-text + intent/NER pipeline.\n",
        "\n",
        "* Deploy scheme classifier and response generator.\n",
        "\n",
        "* Integrate with WhatsApp/Telegram via Twilio/Bot API.\n",
        "\n",
        "**Phase 3: Pilot Launch (Week 4)**\n",
        "\n",
        "* Onboard ~1,000 farmers across 2 districts.\n",
        "\n",
        "* Collect feedback on UX, accuracy, and language gaps.\n",
        "\n",
        "**Phase 4: Scale and Optimize (Week 5-6)**\n",
        "\n",
        "* Retrain with new utterances, improve context handling.\n",
        "\n",
        "* Expand scheme coverage and add 3 more languages.\n"
      ],
      "metadata": {
        "id": "NBuK0k6uGIua"
      }
    },
    {
      "cell_type": "markdown",
      "source": [
        "## Continuous Improvement"
      ],
      "metadata": {
        "id": "TbIp_5WvI5pB"
      }
    },
    {
      "cell_type": "markdown",
      "source": [
        "\n",
        "\n",
        "The system will improve through active learning from user interactions and feedback loops. Misclassifications and new utterances will be logged and used to retrain the NER and classification models every month. Scheme database updates will be automated and reviewed quarterly to stay current. Voice model accuracy will be enhanced using region-specific accents over time."
      ],
      "metadata": {
        "id": "2cO_Uz8LHTB8"
      }
    },
    {
      "cell_type": "markdown",
      "source": [
        "## Resources – Human"
      ],
      "metadata": {
        "id": "3TCuQ1fUI8UP"
      }
    },
    {
      "cell_type": "markdown",
      "source": [
        "\n",
        "\n",
        "NLP/ML Engineer (1–2): To develop and maintain classification, NER, and speech models.\n",
        "\n",
        "Full-Stack Developer (1): For API, bot integration, and dashboard support.\n",
        "\n",
        "Domain Expert (1): For interpreting government schemes and maintaining the schema-spec.yml.\n",
        "\n",
        "Data Annotator (1–2 part-time): For validating OCR data and labeling utterances.\n",
        "Total: 4–6 people.\n",
        "\n"
      ],
      "metadata": {
        "id": "Au2436bQH_SK"
      }
    },
    {
      "cell_type": "markdown",
      "source": [
        "## Resources-Compute\n"
      ],
      "metadata": {
        "id": "7fmOYX74I-oA"
      }
    },
    {
      "cell_type": "markdown",
      "source": [
        "\n",
        "* Training: Requires GPU (e.g., NVIDIA T4 or A100) for model fine-tuning (NER, classifier, ASR).\n",
        "\n",
        "* Serving: CPU-based inference for WhatsApp/Telegram deployment is sufficient, with fallback to lightweight cloud-based GPU if scaling.\n",
        "\n",
        "* Hosting on AWS/GCP with scalable container orchestration (e.g., ECS, Cloud Run) is recommended.\n",
        "\n"
      ],
      "metadata": {
        "id": "ccqnoUVGII_l"
      }
    }
  ]
}